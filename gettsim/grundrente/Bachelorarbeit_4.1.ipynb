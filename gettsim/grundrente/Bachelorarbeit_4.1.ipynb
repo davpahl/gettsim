{
 "cells": [
  {
   "cell_type": "markdown",
   "metadata": {},
   "source": [
    "## Laden der Relevanten Packages, Aufsetzen des Policy-Environments"
   ]
  },
  {
   "cell_type": "code",
   "execution_count": 1,
   "metadata": {},
   "outputs": [],
   "source": [
    "import pandas as pd\n",
    "import numpy as np\n",
    "import copy\n",
    "\n",
    "from itertools import product\n",
    "\n",
    "import matplotlib.pyplot as plt\n",
    "\n",
    "from gettsim import set_up_policy_environment\n",
    "from gettsim import compute_taxes_and_transfers\n",
    "from gettsim import grundrente\n",
    "\n",
    "from gettsim import ROOT_DIR\n",
    "\n",
    "policy_params, policy_functions = set_up_policy_environment(\"2020\")"
   ]
  },
  {
   "cell_type": "markdown",
   "metadata": {},
   "source": [
    "## Ergänzen des Policy-Environments um Funktionen für Grundrente"
   ]
  },
  {
   "cell_type": "code",
   "execution_count": 2,
   "metadata": {},
   "outputs": [
    {
     "data": {
      "text/plain": [
       "'gettsim.grundrente.grundrente'"
      ]
     },
     "execution_count": 2,
     "metadata": {},
     "output_type": "execute_result"
    }
   ],
   "source": [
    "functions = \"gettsim.grundrente.grundrente\"\n",
    "functions"
   ]
  },
  {
   "cell_type": "markdown",
   "metadata": {},
   "source": [
    "## Erstellen eines Datensatzes, der in den Entgeltpunkten variiert"
   ]
  },
  {
   "cell_type": "code",
   "execution_count": 3,
   "metadata": {},
   "outputs": [
    {
     "data": {
      "text/html": [
       "<div>\n",
       "<style scoped>\n",
       "    .dataframe tbody tr th:only-of-type {\n",
       "        vertical-align: middle;\n",
       "    }\n",
       "\n",
       "    .dataframe tbody tr th {\n",
       "        vertical-align: top;\n",
       "    }\n",
       "\n",
       "    .dataframe thead th {\n",
       "        text-align: right;\n",
       "    }\n",
       "</style>\n",
       "<table border=\"1\" class=\"dataframe\">\n",
       "  <thead>\n",
       "    <tr style=\"text-align: right;\">\n",
       "      <th></th>\n",
       "      <th>hh_id</th>\n",
       "      <th>wohnort_ost</th>\n",
       "      <th>entgeltpunkte</th>\n",
       "      <th>grundrentenbewertungszeiten</th>\n",
       "      <th>entgeltpunkte_grundrente</th>\n",
       "      <th>bruttolohn_m</th>\n",
       "      <th>alter</th>\n",
       "      <th>geburtsjahr</th>\n",
       "      <th>grundrentenzeiten</th>\n",
       "    </tr>\n",
       "  </thead>\n",
       "  <tbody>\n",
       "    <tr>\n",
       "      <th>0</th>\n",
       "      <td>0</td>\n",
       "      <td>False</td>\n",
       "      <td>0.100000</td>\n",
       "      <td>4.0</td>\n",
       "      <td>0.100000</td>\n",
       "      <td>0</td>\n",
       "      <td>65</td>\n",
       "      <td>1955</td>\n",
       "      <td>480</td>\n",
       "    </tr>\n",
       "    <tr>\n",
       "      <th>1</th>\n",
       "      <td>1</td>\n",
       "      <td>False</td>\n",
       "      <td>0.604040</td>\n",
       "      <td>24.0</td>\n",
       "      <td>0.604040</td>\n",
       "      <td>0</td>\n",
       "      <td>65</td>\n",
       "      <td>1955</td>\n",
       "      <td>480</td>\n",
       "    </tr>\n",
       "    <tr>\n",
       "      <th>2</th>\n",
       "      <td>2</td>\n",
       "      <td>False</td>\n",
       "      <td>1.108081</td>\n",
       "      <td>44.0</td>\n",
       "      <td>1.108081</td>\n",
       "      <td>0</td>\n",
       "      <td>65</td>\n",
       "      <td>1955</td>\n",
       "      <td>480</td>\n",
       "    </tr>\n",
       "    <tr>\n",
       "      <th>3</th>\n",
       "      <td>3</td>\n",
       "      <td>False</td>\n",
       "      <td>1.612121</td>\n",
       "      <td>64.0</td>\n",
       "      <td>1.612121</td>\n",
       "      <td>0</td>\n",
       "      <td>65</td>\n",
       "      <td>1955</td>\n",
       "      <td>480</td>\n",
       "    </tr>\n",
       "    <tr>\n",
       "      <th>4</th>\n",
       "      <td>4</td>\n",
       "      <td>False</td>\n",
       "      <td>2.116162</td>\n",
       "      <td>84.0</td>\n",
       "      <td>2.116162</td>\n",
       "      <td>0</td>\n",
       "      <td>65</td>\n",
       "      <td>1955</td>\n",
       "      <td>480</td>\n",
       "    </tr>\n",
       "  </tbody>\n",
       "</table>\n",
       "</div>"
      ],
      "text/plain": [
       "   hh_id  wohnort_ost  entgeltpunkte  grundrentenbewertungszeiten  \\\n",
       "0      0        False       0.100000                          4.0   \n",
       "1      1        False       0.604040                         24.0   \n",
       "2      2        False       1.108081                         44.0   \n",
       "3      3        False       1.612121                         64.0   \n",
       "4      4        False       2.116162                         84.0   \n",
       "\n",
       "   entgeltpunkte_grundrente  bruttolohn_m  alter  geburtsjahr  \\\n",
       "0                  0.100000             0     65         1955   \n",
       "1                  0.604040             0     65         1955   \n",
       "2                  1.108081             0     65         1955   \n",
       "3                  1.612121             0     65         1955   \n",
       "4                  2.116162             0     65         1955   \n",
       "\n",
       "   grundrentenzeiten  \n",
       "0                480  \n",
       "1                480  \n",
       "2                480  \n",
       "3                480  \n",
       "4                480  "
      ]
     },
     "execution_count": 3,
     "metadata": {},
     "output_type": "execute_result"
    }
   ],
   "source": [
    "data_4a = pd.DataFrame(index=pd.RangeIndex(100))\n",
    "data_4a[\"hh_id\"] = data_4a.index\n",
    "data_4a[\"wohnort_ost\"] = False\n",
    "data_4a[\"entgeltpunkte\"] = np.linspace(0.1, 50, 100)\n",
    "data_4a[\"grundrentenbewertungszeiten\"] = (((data_4a[\"entgeltpunkte\"]/0.3) * 12).clip(upper=480)).apply(np.floor)\n",
    "data_4a[\"entgeltpunkte_grundrente\"] = data_4a[\"entgeltpunkte\"]\n",
    "data_4a[\"bruttolohn_m\"] = 0\n",
    "data_4a[\"alter\"] = 65\n",
    "data_4a[\"geburtsjahr\"] = 2020 - data_4a[\"alter\"]\n",
    "data_4a[\"grundrentenzeiten\"] = 480\n",
    "\n",
    "\n",
    "data_4a.head()"
   ]
  },
  {
   "cell_type": "markdown",
   "metadata": {},
   "source": [
    "## Berechne Ergebnisse für Datensatz"
   ]
  },
  {
   "cell_type": "code",
   "execution_count": 4,
   "metadata": {},
   "outputs": [
    {
     "data": {
      "text/html": [
       "<div>\n",
       "<style scoped>\n",
       "    .dataframe tbody tr th:only-of-type {\n",
       "        vertical-align: middle;\n",
       "    }\n",
       "\n",
       "    .dataframe tbody tr th {\n",
       "        vertical-align: top;\n",
       "    }\n",
       "\n",
       "    .dataframe thead th {\n",
       "        text-align: right;\n",
       "    }\n",
       "</style>\n",
       "<table border=\"1\" class=\"dataframe\">\n",
       "  <thead>\n",
       "    <tr style=\"text-align: right;\">\n",
       "      <th></th>\n",
       "      <th>anzurechnende_rente</th>\n",
       "      <th>durchschnittl_entgeltpunkte_grundrente</th>\n",
       "      <th>grundrente1</th>\n",
       "      <th>grundsicherung</th>\n",
       "      <th>grundsicherung_im_alter_2020</th>\n",
       "      <th>rente_anspr_m</th>\n",
       "    </tr>\n",
       "  </thead>\n",
       "  <tbody>\n",
       "    <tr>\n",
       "      <th>0</th>\n",
       "      <td>0.00000</td>\n",
       "      <td>0.025000</td>\n",
       "      <td>2.822470</td>\n",
       "      <td>932.00000</td>\n",
       "      <td>928.774320</td>\n",
       "      <td>3.225680</td>\n",
       "    </tr>\n",
       "    <tr>\n",
       "      <th>1</th>\n",
       "      <td>0.00000</td>\n",
       "      <td>0.025168</td>\n",
       "      <td>17.048859</td>\n",
       "      <td>932.00000</td>\n",
       "      <td>912.515589</td>\n",
       "      <td>19.484411</td>\n",
       "    </tr>\n",
       "    <tr>\n",
       "      <th>2</th>\n",
       "      <td>0.00000</td>\n",
       "      <td>0.025184</td>\n",
       "      <td>31.275248</td>\n",
       "      <td>932.00000</td>\n",
       "      <td>896.256859</td>\n",
       "      <td>35.743141</td>\n",
       "    </tr>\n",
       "    <tr>\n",
       "      <th>3</th>\n",
       "      <td>0.00000</td>\n",
       "      <td>0.025189</td>\n",
       "      <td>45.501638</td>\n",
       "      <td>932.00000</td>\n",
       "      <td>879.998128</td>\n",
       "      <td>52.001872</td>\n",
       "    </tr>\n",
       "    <tr>\n",
       "      <th>4</th>\n",
       "      <td>19.59204</td>\n",
       "      <td>0.025192</td>\n",
       "      <td>59.728027</td>\n",
       "      <td>912.40796</td>\n",
       "      <td>863.739398</td>\n",
       "      <td>68.260602</td>\n",
       "    </tr>\n",
       "  </tbody>\n",
       "</table>\n",
       "</div>"
      ],
      "text/plain": [
       "   anzurechnende_rente  durchschnittl_entgeltpunkte_grundrente  grundrente1  \\\n",
       "0              0.00000                                0.025000     2.822470   \n",
       "1              0.00000                                0.025168    17.048859   \n",
       "2              0.00000                                0.025184    31.275248   \n",
       "3              0.00000                                0.025189    45.501638   \n",
       "4             19.59204                                0.025192    59.728027   \n",
       "\n",
       "   grundsicherung  grundsicherung_im_alter_2020  rente_anspr_m  \n",
       "0       932.00000                    928.774320       3.225680  \n",
       "1       932.00000                    912.515589      19.484411  \n",
       "2       932.00000                    896.256859      35.743141  \n",
       "3       932.00000                    879.998128      52.001872  \n",
       "4       912.40796                    863.739398      68.260602  "
      ]
     },
     "execution_count": 4,
     "metadata": {},
     "output_type": "execute_result"
    }
   ],
   "source": [
    "ergebnis = compute_taxes_and_transfers(\n",
    "    data = data_4a,\n",
    "    params = policy_params,\n",
    "    targets = [\"rente_anspr_m\", \"grundsicherung_im_alter_2020\", \"grundsicherung\", \"grundrente1\", \"anzurechnende_rente\", \"durchschnittl_entgeltpunkte_grundrente\"],\n",
    "    functions = [policy_functions, functions]\n",
    "    )\n",
    "\n",
    "ergebnis.head()\n"
   ]
  },
  {
   "cell_type": "markdown",
   "metadata": {},
   "source": [
    "## Daten ordnen, Vorbereitung zur Visualisierung"
   ]
  },
  {
   "cell_type": "code",
   "execution_count": 5,
   "metadata": {},
   "outputs": [],
   "source": [
    "data_4a[\"ergebnis_2020\"] = ergebnis[\"rente_anspr_m\"] + ergebnis[\"grundsicherung_im_alter_2020\"]\n",
    "data_4a[\"ergebnis_2021\"] = ergebnis[\"rente_anspr_m\"] + ergebnis[\"grundrente1\"] + ergebnis[\"grundsicherung\"]\n",
    "data_4a[\"Absolute Änderung\"] = data_4a[\"ergebnis_2021\"] - data_4a[\"ergebnis_2020\"]\n",
    "data_4a[\"Entgeltpunkte pro Jahr\"] = data_4a[\"entgeltpunkte\"] / 40\n",
    "data_4a[\"rente_anspr_m\"] = ergebnis[\"rente_anspr_m\"]"
   ]
  },
  {
   "cell_type": "markdown",
   "metadata": {},
   "source": [
    "## Abb.1: Komponenten Einkommen"
   ]
  },
  {
   "cell_type": "code",
   "execution_count": 6,
   "metadata": {},
   "outputs": [
    {
     "data": {
      "image/png": "[encoded data removed]",
      "text/plain": [
       "<Figure size 432x288 with 1 Axes>"
      ]
     },
     "metadata": {
      "needs_background": "light"
     },
     "output_type": "display_data"
    }
   ],
   "source": [
    "plt.plot(data_4a[\"Entgeltpunkte pro Jahr\"], data_4a[\"ergebnis_2021\"], label=\"Total\", color='#F5B14C')\n",
    "plt.plot(data_4a[\"Entgeltpunkte pro Jahr\"], data_4a[\"rente_anspr_m\"], \"--\", label=\"(klassischer) Rentenanspruch\", color='#9D2EC5')\n",
    "plt.plot(data_4a[\"Entgeltpunkte pro Jahr\"], ergebnis[\"grundrente1\"], \"--\", label=\"Grundrentenzuschlag\")\n",
    "plt.plot(data_4a[\"Entgeltpunkte pro Jahr\"], ergebnis[\"grundsicherung\"], \"--\", label=\"Grundsicherung\")\n",
    "plt.plot(data_4a[\"Entgeltpunkte pro Jahr\"], ergebnis[\"rente_anspr_m\"] + ergebnis[\"grundrente1\"] , label=\"Total ohne Grundsicherung\")\n",
    "\n",
    "plt.xlabel(\"Entgeltpunkte pro Jahr\")\n",
    "plt.ylabel(\"Euro\")\n",
    "plt.title(\"Abb.1: Komponenten Einkommen\")\n",
    "\n",
    "plt.xlim(0, 1)\n",
    "plt.ylim(0, 1750)\n",
    "\n",
    "\n",
    "plt.legend(loc=2, prop={'size': 7})\n",
    "plt.show()\n"
   ]
  },
  {
   "cell_type": "markdown",
   "metadata": {},
   "source": [
    "## Abb. 2: 2020 vs. 2021"
   ]
  },
  {
   "cell_type": "code",
   "execution_count": 7,
   "metadata": {},
   "outputs": [
    {
     "data": {
      "image/png": "[encoded data removed]",
      "text/plain": [
       "<Figure size 432x288 with 1 Axes>"
      ]
     },
     "metadata": {
      "needs_background": "light"
     },
     "output_type": "display_data"
    }
   ],
   "source": [
    "plt.plot(data_4a[\"Entgeltpunkte pro Jahr\"], data_4a[\"ergebnis_2021\"], label=\"2021\", color='#F5B14C')\n",
    "plt.plot(data_4a[\"Entgeltpunkte pro Jahr\"], data_4a[\"ergebnis_2020\"], label=\"2020\", color='#9D2EC5')\n",
    "plt.plot(data_4a[\"Entgeltpunkte pro Jahr\"], data_4a[\"Absolute Änderung\"],label=\"Absolute Änderung\")\n",
    "\n",
    "plt.xlabel(\"Entgeltpunkte pro Jahr\")\n",
    "plt.ylabel(\"Euro\")\n",
    "plt.title(\"Abb.2: 2020 vs. 2021\")\n",
    "\n",
    "plt.xlim(0, 1)\n",
    "plt.ylim(0, 1750)\n",
    "\n",
    "plt.legend()\n",
    "plt.show()"
   ]
  },
  {
   "cell_type": "markdown",
   "metadata": {},
   "source": [
    "## Abb.3: Bedeutung des Grundrentenzuschlags"
   ]
  },
  {
   "cell_type": "code",
   "execution_count": 8,
   "metadata": {},
   "outputs": [
    {
     "data": {
      "text/html": [
       "<div>\n",
       "<style scoped>\n",
       "    .dataframe tbody tr th:only-of-type {\n",
       "        vertical-align: middle;\n",
       "    }\n",
       "\n",
       "    .dataframe tbody tr th {\n",
       "        vertical-align: top;\n",
       "    }\n",
       "\n",
       "    .dataframe thead th {\n",
       "        text-align: right;\n",
       "    }\n",
       "</style>\n",
       "<table border=\"1\" class=\"dataframe\">\n",
       "  <thead>\n",
       "    <tr style=\"text-align: right;\">\n",
       "      <th></th>\n",
       "      <th>hh_id</th>\n",
       "      <th>wohnort_ost</th>\n",
       "      <th>entgeltpunkte</th>\n",
       "      <th>grundrentenbewertungszeiten</th>\n",
       "      <th>entgeltpunkte_grundrente</th>\n",
       "      <th>bruttolohn_m</th>\n",
       "      <th>alter</th>\n",
       "      <th>geburtsjahr</th>\n",
       "      <th>grundrentenzeiten</th>\n",
       "      <th>grundrente1</th>\n",
       "    </tr>\n",
       "  </thead>\n",
       "  <tbody>\n",
       "    <tr>\n",
       "      <th>0</th>\n",
       "      <td>0</td>\n",
       "      <td>False</td>\n",
       "      <td>0.100000</td>\n",
       "      <td>4.0</td>\n",
       "      <td>0.100000</td>\n",
       "      <td>0</td>\n",
       "      <td>65</td>\n",
       "      <td>1955</td>\n",
       "      <td>480</td>\n",
       "      <td>0.0</td>\n",
       "    </tr>\n",
       "    <tr>\n",
       "      <th>1</th>\n",
       "      <td>1</td>\n",
       "      <td>False</td>\n",
       "      <td>0.604040</td>\n",
       "      <td>24.0</td>\n",
       "      <td>0.604040</td>\n",
       "      <td>0</td>\n",
       "      <td>65</td>\n",
       "      <td>1955</td>\n",
       "      <td>480</td>\n",
       "      <td>0.0</td>\n",
       "    </tr>\n",
       "    <tr>\n",
       "      <th>2</th>\n",
       "      <td>2</td>\n",
       "      <td>False</td>\n",
       "      <td>1.108081</td>\n",
       "      <td>44.0</td>\n",
       "      <td>1.108081</td>\n",
       "      <td>0</td>\n",
       "      <td>65</td>\n",
       "      <td>1955</td>\n",
       "      <td>480</td>\n",
       "      <td>0.0</td>\n",
       "    </tr>\n",
       "    <tr>\n",
       "      <th>3</th>\n",
       "      <td>3</td>\n",
       "      <td>False</td>\n",
       "      <td>1.612121</td>\n",
       "      <td>64.0</td>\n",
       "      <td>1.612121</td>\n",
       "      <td>0</td>\n",
       "      <td>65</td>\n",
       "      <td>1955</td>\n",
       "      <td>480</td>\n",
       "      <td>0.0</td>\n",
       "    </tr>\n",
       "    <tr>\n",
       "      <th>4</th>\n",
       "      <td>4</td>\n",
       "      <td>False</td>\n",
       "      <td>2.116162</td>\n",
       "      <td>84.0</td>\n",
       "      <td>2.116162</td>\n",
       "      <td>0</td>\n",
       "      <td>65</td>\n",
       "      <td>1955</td>\n",
       "      <td>480</td>\n",
       "      <td>0.0</td>\n",
       "    </tr>\n",
       "  </tbody>\n",
       "</table>\n",
       "</div>"
      ],
      "text/plain": [
       "   hh_id  wohnort_ost  entgeltpunkte  grundrentenbewertungszeiten  \\\n",
       "0      0        False       0.100000                          4.0   \n",
       "1      1        False       0.604040                         24.0   \n",
       "2      2        False       1.108081                         44.0   \n",
       "3      3        False       1.612121                         64.0   \n",
       "4      4        False       2.116162                         84.0   \n",
       "\n",
       "   entgeltpunkte_grundrente  bruttolohn_m  alter  geburtsjahr  \\\n",
       "0                  0.100000             0     65         1955   \n",
       "1                  0.604040             0     65         1955   \n",
       "2                  1.108081             0     65         1955   \n",
       "3                  1.612121             0     65         1955   \n",
       "4                  2.116162             0     65         1955   \n",
       "\n",
       "   grundrentenzeiten  grundrente1  \n",
       "0                480          0.0  \n",
       "1                480          0.0  \n",
       "2                480          0.0  \n",
       "3                480          0.0  \n",
       "4                480          0.0  "
      ]
     },
     "execution_count": 8,
     "metadata": {},
     "output_type": "execute_result"
    }
   ],
   "source": [
    "data_4a_modified = data_4a\n",
    "data_4a_modified[\"grundrente1\"] = 0\n",
    "data_4a_modified = data_4a_modified.astype({\"grundrente1\": float})\n",
    "data_4a_modified = data_4a_modified.drop(columns = [\"rente_anspr_m\", \"ergebnis_2020\", \"ergebnis_2021\", \n",
    "                                                    \"Absolute Änderung\", \"Entgeltpunkte pro Jahr\"])\n",
    "\n",
    "data_4a_modified.head()"
   ]
  },
  {
   "cell_type": "code",
   "execution_count": 9,
   "metadata": {},
   "outputs": [],
   "source": [
    "ergebnis_ohne_zuschlag = compute_taxes_and_transfers(\n",
    "data = data_4a_modified,\n",
    "params = policy_params,\n",
    "columns_overriding_functions= [\"grundrente1\"],\n",
    "targets = [\"rente_anspr_m\", \"grundsicherung_im_alter_2020\", \"grundsicherung\", \"anzurechnende_rente\"],\n",
    "functions = [policy_functions, functions]\n",
    ")\n",
    "ergebnis_ohne_zuschlag = ergebnis_ohne_zuschlag.replace(np.nan, 0)"
   ]
  },
  {
   "cell_type": "code",
   "execution_count": 10,
   "metadata": {},
   "outputs": [],
   "source": [
    "data_4a_modified[\"ohne Rentenzuschlag\"] = ergebnis_ohne_zuschlag[\"grundsicherung\"] + ergebnis_ohne_zuschlag[\"rente_anspr_m\"] "
   ]
  },
  {
   "cell_type": "code",
   "execution_count": 11,
   "metadata": {},
   "outputs": [
    {
     "data": {
      "image/png": "[encoded data removed]",
      "text/plain": [
       "<Figure size 432x288 with 1 Axes>"
      ]
     },
     "metadata": {
      "needs_background": "light"
     },
     "output_type": "display_data"
    }
   ],
   "source": [
    "plt.plot(data_4a[\"Entgeltpunkte pro Jahr\"], data_4a[\"ergebnis_2021\"], label=\"mit Rentenzuschlag\")\n",
    "plt.plot(data_4a[\"Entgeltpunkte pro Jahr\"], data_4a_modified[\"ohne Rentenzuschlag\"] , label=\"ohne Rentenzuschlag\")\n",
    "plt.plot(data_4a[\"Entgeltpunkte pro Jahr\"], data_4a[\"ergebnis_2020\"], label=\"2020\")\n",
    "\n",
    "plt.xlabel(\"Entgeltpunkte pro Jahr\")\n",
    "plt.ylabel(\"Euro\")\n",
    "plt.title(\"Abb.3: Bedeutung des Grundrentenzuschlags\")\n",
    "\n",
    "plt.xlim(0, 1)\n",
    "plt.ylim(0, 1750)\n",
    "\n",
    "\n",
    "plt.legend()\n",
    "plt.show()"
   ]
  },
  {
   "cell_type": "markdown",
   "metadata": {},
   "source": [
    "## Abb.4: Bedeutung des Freibetrags"
   ]
  },
  {
   "cell_type": "code",
   "execution_count": 12,
   "metadata": {},
   "outputs": [
    {
     "data": {
      "text/html": [
       "<div>\n",
       "<style scoped>\n",
       "    .dataframe tbody tr th:only-of-type {\n",
       "        vertical-align: middle;\n",
       "    }\n",
       "\n",
       "    .dataframe tbody tr th {\n",
       "        vertical-align: top;\n",
       "    }\n",
       "\n",
       "    .dataframe thead th {\n",
       "        text-align: right;\n",
       "    }\n",
       "</style>\n",
       "<table border=\"1\" class=\"dataframe\">\n",
       "  <thead>\n",
       "    <tr style=\"text-align: right;\">\n",
       "      <th></th>\n",
       "      <th>hh_id</th>\n",
       "      <th>wohnort_ost</th>\n",
       "      <th>entgeltpunkte</th>\n",
       "      <th>grundrentenbewertungszeiten</th>\n",
       "      <th>entgeltpunkte_grundrente</th>\n",
       "      <th>bruttolohn_m</th>\n",
       "      <th>alter</th>\n",
       "      <th>geburtsjahr</th>\n",
       "      <th>grundrentenzeiten</th>\n",
       "    </tr>\n",
       "  </thead>\n",
       "  <tbody>\n",
       "    <tr>\n",
       "      <th>0</th>\n",
       "      <td>0</td>\n",
       "      <td>False</td>\n",
       "      <td>0.100000</td>\n",
       "      <td>4.0</td>\n",
       "      <td>0.100000</td>\n",
       "      <td>0</td>\n",
       "      <td>65</td>\n",
       "      <td>1955</td>\n",
       "      <td>480</td>\n",
       "    </tr>\n",
       "    <tr>\n",
       "      <th>1</th>\n",
       "      <td>1</td>\n",
       "      <td>False</td>\n",
       "      <td>0.604040</td>\n",
       "      <td>24.0</td>\n",
       "      <td>0.604040</td>\n",
       "      <td>0</td>\n",
       "      <td>65</td>\n",
       "      <td>1955</td>\n",
       "      <td>480</td>\n",
       "    </tr>\n",
       "    <tr>\n",
       "      <th>2</th>\n",
       "      <td>2</td>\n",
       "      <td>False</td>\n",
       "      <td>1.108081</td>\n",
       "      <td>44.0</td>\n",
       "      <td>1.108081</td>\n",
       "      <td>0</td>\n",
       "      <td>65</td>\n",
       "      <td>1955</td>\n",
       "      <td>480</td>\n",
       "    </tr>\n",
       "    <tr>\n",
       "      <th>3</th>\n",
       "      <td>3</td>\n",
       "      <td>False</td>\n",
       "      <td>1.612121</td>\n",
       "      <td>64.0</td>\n",
       "      <td>1.612121</td>\n",
       "      <td>0</td>\n",
       "      <td>65</td>\n",
       "      <td>1955</td>\n",
       "      <td>480</td>\n",
       "    </tr>\n",
       "    <tr>\n",
       "      <th>4</th>\n",
       "      <td>4</td>\n",
       "      <td>False</td>\n",
       "      <td>2.116162</td>\n",
       "      <td>84.0</td>\n",
       "      <td>2.116162</td>\n",
       "      <td>0</td>\n",
       "      <td>65</td>\n",
       "      <td>1955</td>\n",
       "      <td>480</td>\n",
       "    </tr>\n",
       "  </tbody>\n",
       "</table>\n",
       "</div>"
      ],
      "text/plain": [
       "   hh_id  wohnort_ost  entgeltpunkte  grundrentenbewertungszeiten  \\\n",
       "0      0        False       0.100000                          4.0   \n",
       "1      1        False       0.604040                         24.0   \n",
       "2      2        False       1.108081                         44.0   \n",
       "3      3        False       1.612121                         64.0   \n",
       "4      4        False       2.116162                         84.0   \n",
       "\n",
       "   entgeltpunkte_grundrente  bruttolohn_m  alter  geburtsjahr  \\\n",
       "0                  0.100000             0     65         1955   \n",
       "1                  0.604040             0     65         1955   \n",
       "2                  1.108081             0     65         1955   \n",
       "3                  1.612121             0     65         1955   \n",
       "4                  2.116162             0     65         1955   \n",
       "\n",
       "   grundrentenzeiten  \n",
       "0                480  \n",
       "1                480  \n",
       "2                480  \n",
       "3                480  \n",
       "4                480  "
      ]
     },
     "execution_count": 12,
     "metadata": {},
     "output_type": "execute_result"
    }
   ],
   "source": [
    "data_4a_modified2 = data_4a\n",
    "data_4a_modified2 = data_4a_modified2.drop(columns = [\"rente_anspr_m\", \"grundrente1\", \"ergebnis_2020\", \"ergebnis_2021\", \n",
    "                                                    \"Absolute Änderung\", \"Entgeltpunkte pro Jahr\"])\n",
    "data_4a_modified2.head()"
   ]
  },
  {
   "cell_type": "code",
   "execution_count": 13,
   "metadata": {},
   "outputs": [],
   "source": [
    "ergebnis_ohne_freibetrag = compute_taxes_and_transfers(\n",
    "data = data_4a_modified2,\n",
    "params = policy_params,\n",
    "targets = [\"rente_anspr_m\", \"grundrente1\"],\n",
    "functions = [policy_functions, functions]\n",
    ")\n",
    "ergebnis_ohne_freibetrag\n",
    "ergebnis_ohne_freibetrag[\"Grundsicherung\"] = ((500 + 432) - ergebnis_ohne_freibetrag[\"grundrente1\"] - ergebnis_ohne_freibetrag[\"rente_anspr_m\"]).clip(lower=0)\n",
    "ergebnis_ohne_freibetrag[\"ohne Freibetrag\"] = ergebnis_ohne_freibetrag[\"Grundsicherung\"] + ergebnis_ohne_freibetrag[\"grundrente1\"] + ergebnis_ohne_freibetrag[\"rente_anspr_m\"]"
   ]
  },
  {
   "cell_type": "code",
   "execution_count": 14,
   "metadata": {},
   "outputs": [
    {
     "data": {
      "image/png": "[encoded data removed]",
      "text/plain": [
       "<Figure size 432x288 with 1 Axes>"
      ]
     },
     "metadata": {
      "needs_background": "light"
     },
     "output_type": "display_data"
    }
   ],
   "source": [
    "plt.plot(data_4a[\"Entgeltpunkte pro Jahr\"], data_4a[\"ergebnis_2021\"], label=\"2021\")\n",
    "plt.plot(data_4a[\"Entgeltpunkte pro Jahr\"], ergebnis_ohne_freibetrag[\"ohne Freibetrag\"] , label=\"2021 ohne Freibetrag\")\n",
    "plt.plot(data_4a[\"Entgeltpunkte pro Jahr\"], data_4a[\"ergebnis_2020\"], label=\"2020\" )\n",
    "\n",
    "plt.xlabel(\"Entgeltpunkte pro Jahr\")\n",
    "plt.ylabel(\"Euro\")\n",
    "plt.title(\"Abb.4: Bedeutung des Freibetrags\")\n",
    "\n",
    "\n",
    "plt.xlim(0, 1)\n",
    "plt.ylim(0, 1750)\n",
    "\n",
    "plt.legend()\n",
    "plt.show()"
   ]
  }
 ],
 "metadata": {
  "kernelspec": {
   "display_name": "Python 3",
   "language": "python",
   "name": "python3"
  },
  "language_info": {
   "codemirror_mode": {
    "name": "ipython",
    "version": 3
   },
   "file_extension": ".py",
   "mimetype": "text/x-python",
   "name": "python",
   "nbconvert_exporter": "python",
   "pygments_lexer": "ipython3",
   "version": "3.8.5"
  }
 },
 "nbformat": 4,
 "nbformat_minor": 4
}
